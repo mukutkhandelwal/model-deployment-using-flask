{
  "nbformat": 4,
  "nbformat_minor": 0,
  "metadata": {
    "colab": {
      "name": "sentiment_analysis",
      "provenance": [],
      "collapsed_sections": []
    },
    "kernelspec": {
      "name": "python3",
      "display_name": "Python 3"
    }
  },
  "cells": [
    {
      "cell_type": "code",
      "metadata": {
        "id": "4wDZ0o-ebWiw",
        "colab": {
          "base_uri": "https://localhost:8080/"
        },
        "outputId": "7b4f968d-4529-4026-f151-93d183017f32"
      },
      "source": [
        "# import necessary libraries for text preprocessing\n",
        "import pandas as pd\n",
        "import re\n",
        "import nltk\n",
        "from nltk.tokenize import word_tokenize\n",
        "from nltk.corpus import stopwords\n",
        "from nltk.stem import WordNetLemmatizer\n",
        "import pickle\n",
        "nltk.download('stopwords')\n",
        "nltk.download('wordnet')\n",
        "nltk.download('punkt')"
      ],
      "execution_count": 30,
      "outputs": [
        {
          "output_type": "stream",
          "text": [
            "[nltk_data] Downloading package stopwords to /root/nltk_data...\n",
            "[nltk_data]   Package stopwords is already up-to-date!\n",
            "[nltk_data] Downloading package wordnet to /root/nltk_data...\n",
            "[nltk_data]   Package wordnet is already up-to-date!\n",
            "[nltk_data] Downloading package punkt to /root/nltk_data...\n",
            "[nltk_data]   Package punkt is already up-to-date!\n"
          ],
          "name": "stdout"
        },
        {
          "output_type": "execute_result",
          "data": {
            "text/plain": [
              "True"
            ]
          },
          "metadata": {
            "tags": []
          },
          "execution_count": 30
        }
      ]
    },
    {
      "cell_type": "code",
      "metadata": {
        "id": "76CIiSXXnQd4"
      },
      "source": [
        "# import necessary libraries for model building\n",
        "from sklearn.model_selection import train_test_split\n",
        "from sklearn.preprocessing import LabelEncoder\n",
        "from sklearn.feature_extraction.text import TfidfVectorizer\n",
        "from sklearn.feature_extraction.text import CountVectorizer\n",
        "from sklearn.naive_bayes import MultinomialNB\n",
        "from sklearn.svm import SVC\n",
        "from sklearn.metrics import classification_report,accuracy_score"
      ],
      "execution_count": 29,
      "outputs": []
    },
    {
      "cell_type": "code",
      "metadata": {
        "id": "bk_I8jgCtvwJ"
      },
      "source": [
        "# Using the SMOTE technique for handling the imbalance of the classes in the predicting class\n",
        "from imblearn.over_sampling import SMOTE"
      ],
      "execution_count": 3,
      "outputs": []
    },
    {
      "cell_type": "code",
      "metadata": {
        "id": "VsnPBJyzb3rD"
      },
      "source": [
        "def read_data(path):\n",
        "    ''' function to read the data'''\n",
        "    data = pd.read_csv(path)\n",
        "    return data\n",
        "path = '/content/airline_sentiment_analysis.csv'\n",
        "data = read_data(path)"
      ],
      "execution_count": 6,
      "outputs": []
    },
    {
      "cell_type": "code",
      "metadata": {
        "colab": {
          "base_uri": "https://localhost:8080/",
          "height": 202
        },
        "id": "CrnHDjidb61B",
        "outputId": "d7e5d646-4fde-41ad-fed3-3750a1ddc550"
      },
      "source": [
        "data.head() #top 5 rows of the data sets"
      ],
      "execution_count": 7,
      "outputs": [
        {
          "output_type": "execute_result",
          "data": {
            "text/html": [
              "<div>\n",
              "<style scoped>\n",
              "    .dataframe tbody tr th:only-of-type {\n",
              "        vertical-align: middle;\n",
              "    }\n",
              "\n",
              "    .dataframe tbody tr th {\n",
              "        vertical-align: top;\n",
              "    }\n",
              "\n",
              "    .dataframe thead th {\n",
              "        text-align: right;\n",
              "    }\n",
              "</style>\n",
              "<table border=\"1\" class=\"dataframe\">\n",
              "  <thead>\n",
              "    <tr style=\"text-align: right;\">\n",
              "      <th></th>\n",
              "      <th>Unnamed: 0</th>\n",
              "      <th>airline_sentiment</th>\n",
              "      <th>text</th>\n",
              "    </tr>\n",
              "  </thead>\n",
              "  <tbody>\n",
              "    <tr>\n",
              "      <th>0</th>\n",
              "      <td>1</td>\n",
              "      <td>positive</td>\n",
              "      <td>@VirginAmerica plus you've added commercials t...</td>\n",
              "    </tr>\n",
              "    <tr>\n",
              "      <th>1</th>\n",
              "      <td>3</td>\n",
              "      <td>negative</td>\n",
              "      <td>@VirginAmerica it's really aggressive to blast...</td>\n",
              "    </tr>\n",
              "    <tr>\n",
              "      <th>2</th>\n",
              "      <td>4</td>\n",
              "      <td>negative</td>\n",
              "      <td>@VirginAmerica and it's a really big bad thing...</td>\n",
              "    </tr>\n",
              "    <tr>\n",
              "      <th>3</th>\n",
              "      <td>5</td>\n",
              "      <td>negative</td>\n",
              "      <td>@VirginAmerica seriously would pay $30 a fligh...</td>\n",
              "    </tr>\n",
              "    <tr>\n",
              "      <th>4</th>\n",
              "      <td>6</td>\n",
              "      <td>positive</td>\n",
              "      <td>@VirginAmerica yes, nearly every time I fly VX...</td>\n",
              "    </tr>\n",
              "  </tbody>\n",
              "</table>\n",
              "</div>"
            ],
            "text/plain": [
              "   Unnamed: 0  ...                                               text\n",
              "0           1  ...  @VirginAmerica plus you've added commercials t...\n",
              "1           3  ...  @VirginAmerica it's really aggressive to blast...\n",
              "2           4  ...  @VirginAmerica and it's a really big bad thing...\n",
              "3           5  ...  @VirginAmerica seriously would pay $30 a fligh...\n",
              "4           6  ...  @VirginAmerica yes, nearly every time I fly VX...\n",
              "\n",
              "[5 rows x 3 columns]"
            ]
          },
          "metadata": {
            "tags": []
          },
          "execution_count": 7
        }
      ]
    },
    {
      "cell_type": "code",
      "metadata": {
        "colab": {
          "base_uri": "https://localhost:8080/"
        },
        "id": "-NeOO2rpb8Fi",
        "outputId": "23eeaec3-baaf-4545-e2f2-24d024ec1bce"
      },
      "source": [
        "data.drop(columns = ['Unnamed: 0']) # dropping the columns which are not required\n",
        "data['airline_sentiment'].value_counts()"
      ],
      "execution_count": 8,
      "outputs": [
        {
          "output_type": "execute_result",
          "data": {
            "text/plain": [
              "negative    9178\n",
              "positive    2363\n",
              "Name: airline_sentiment, dtype: int64"
            ]
          },
          "metadata": {
            "tags": []
          },
          "execution_count": 8
        }
      ]
    },
    {
      "cell_type": "code",
      "metadata": {
        "id": "IuP0xmq1dIuz"
      },
      "source": [
        "def sperate_data(col):\n",
        "    ''' taking the required text from the dataset'''\n",
        "    text = []\n",
        "    for i in col:\n",
        "        text.append(i)\n",
        "    return text\n",
        "text = sperate_data(data['text'])"
      ],
      "execution_count": 10,
      "outputs": []
    },
    {
      "cell_type": "code",
      "metadata": {
        "id": "XWQU9yAM4G7F"
      },
      "source": [
        "class preprocessing:\n",
        "    def __init__(self,text):\n",
        "        ''' initializing the text'''\n",
        "        self.text = text\n",
        "    def clean_data(self):\n",
        "        ''' cleaning and preprocessing the data such as removing the symbols and etc'''\n",
        "        corpus = []\n",
        "        for i in range(len(self.text)):\n",
        "            sent = re.sub('[^a-zA-Z]', ' ',self.text[i])\n",
        "            sent = sent.lower()\n",
        "            sent = word_tokenize(sent)\n",
        "            lemmatize = WordNetLemmatizer()\n",
        "            sent = [lemmatize.lemmatize(word) for word in sent if word not in stopwords.words('english')]\n",
        "            sent = \" \".join(sent)\n",
        "            corpus.append(sent)\n",
        "        return corpus\n",
        "\n",
        "obj = preprocessing(text)\n",
        "corpus = obj.clean_data()"
      ],
      "execution_count": 11,
      "outputs": []
    },
    {
      "cell_type": "code",
      "metadata": {
        "id": "oIArZFljdm6a"
      },
      "source": [
        "class transform_text:\n",
        "    def __init__(self,corpus):\n",
        "        ''' initializing the corpus'''\n",
        "        self.corpus = corpus\n",
        "    def encode_y(self,col):\n",
        "        '''function to convert the text into integer'''\n",
        "        lb = LabelEncoder()\n",
        "        y = lb.fit_transform(col)\n",
        "        return y\n",
        "    def count_vec(self):\n",
        "        ''' using the bag of word model to xonvert entences into integer'''\n",
        "        count_vet = CountVectorizer()\n",
        "        x_countvec = count_vet.fit_transform(self.corpus)\n",
        "        return x_countvec\n",
        "    def tfidf_conv(self):\n",
        "        ''' using the tfidf model to xonvert entences into integer'''\n",
        "        tfidf_trans = TfidfVectorizer()\n",
        "        x_tfidf = tfidf_trans.fit_transform(self.corpus)\n",
        "        return x_tfidf\n",
        "    def handel_imbalance(self,x_countvec,y):\n",
        "        '''handling the imbalance into data'''\n",
        "        oversample = SMOTE()\n",
        "        x_new,y_new = oversample.fit_resample(x_countvec,y)\n",
        "        return x_new,y_new       \n",
        "    def handel_imbalance_tfidf(self,x_tfidf,y):\n",
        "        '''handling the imbalance into data'''\n",
        "        oversample = SMOTE()\n",
        "        x_new_tfidf,y_new_tfidf = oversample.fit_resample(x_tfidf,y)\n",
        "        return x_new_tfidf,y_new_tfidf\n",
        "\n",
        "\n",
        "ob = transform_text(corpus)\n",
        "y = ob.encode_y(data['airline_sentiment'])\n",
        "x_countvec = ob.count_vec()\n",
        "x_tfidf = ob.tfidf_conv()\n",
        "x_new,y_new = ob.handel_imbalance(x_countvec,y)\n",
        "\n",
        "\n"
      ],
      "execution_count": 32,
      "outputs": []
    },
    {
      "cell_type": "code",
      "metadata": {
        "id": "05fROSTTnrxn"
      },
      "source": [
        "# splitting the data\n",
        "xtrain,xtest,ytrain,ytest = train_test_split(x_new,y_new,test_size = 0.2,random_state = 42)"
      ],
      "execution_count": 33,
      "outputs": []
    },
    {
      "cell_type": "code",
      "metadata": {
        "id": "SbidAznenr0t"
      },
      "source": [
        "# using the naive bayes algorithm to train our model\n",
        "clf = MultinomialNB()\n",
        "clf.fit(xtrain,ytrain)\n",
        "y_pred = clf.predict(xtest) "
      ],
      "execution_count": 34,
      "outputs": []
    },
    {
      "cell_type": "code",
      "metadata": {
        "colab": {
          "base_uri": "https://localhost:8080/"
        },
        "id": "V2hfwLhejDuS",
        "outputId": "d5b8219b-7598-4ded-b775-0972923cc0c0"
      },
      "source": [
        "# accuracy_score(ytest,y_pred) accuracy of our algorithm"
      ],
      "execution_count": 35,
      "outputs": [
        {
          "output_type": "execute_result",
          "data": {
            "text/plain": [
              "0.9354575163398693"
            ]
          },
          "metadata": {
            "tags": []
          },
          "execution_count": 35
        }
      ]
    },
    {
      "cell_type": "code",
      "metadata": {
        "id": "6tcmTelYjDxn"
      },
      "source": [
        "# testing the data on custom sentence\n",
        "test_text = ['VirginAmerica it really aggressive']\n",
        "\n",
        "cv_test = CountVectorizer(vocabulary = count_vet.vocabulary_)\n",
        "test_text = cv_test.transform(test_text)\n",
        "\n"
      ],
      "execution_count": 36,
      "outputs": []
    },
    {
      "cell_type": "code",
      "metadata": {
        "colab": {
          "base_uri": "https://localhost:8080/"
        },
        "id": "TSLwfyl_jD1H",
        "outputId": "c6a86b4c-338e-4d3e-de21-d5058b42b358"
      },
      "source": [
        "# which predicted correctly 0 for positive and 1 for negative\n",
        "clf.predict(test_text)"
      ],
      "execution_count": 37,
      "outputs": [
        {
          "output_type": "execute_result",
          "data": {
            "text/plain": [
              "array([1])"
            ]
          },
          "metadata": {
            "tags": []
          },
          "execution_count": 37
        }
      ]
    },
    {
      "cell_type": "code",
      "metadata": {
        "id": "GtjY1Vvhzxfr",
        "colab": {
          "base_uri": "https://localhost:8080/"
        },
        "outputId": "81f68c3c-b377-46a6-8161-44ab8eb50c7d"
      },
      "source": [
        "print(classification_report(ytest,y_pred)) #breif about our classification  model"
      ],
      "execution_count": 38,
      "outputs": [
        {
          "output_type": "stream",
          "text": [
            "              precision    recall  f1-score   support\n",
            "\n",
            "           0       0.94      0.93      0.94      1872\n",
            "           1       0.93      0.94      0.93      1800\n",
            "\n",
            "    accuracy                           0.94      3672\n",
            "   macro avg       0.94      0.94      0.94      3672\n",
            "weighted avg       0.94      0.94      0.94      3672\n",
            "\n"
          ],
          "name": "stdout"
        }
      ]
    },
    {
      "cell_type": "code",
      "metadata": {
        "id": "60dAaBPUcWVB"
      },
      "source": [
        "# testing with the support vector machine algorith for comparison\n",
        "svm = SVC()\n",
        "svm.fit(xtrain,ytrain)\n",
        "ypred = svm.predict(xtest)"
      ],
      "execution_count": 39,
      "outputs": []
    },
    {
      "cell_type": "code",
      "metadata": {
        "colab": {
          "base_uri": "https://localhost:8080/"
        },
        "id": "nHmR_xGCcm8u",
        "outputId": "f01f3235-6db1-4936-9c86-6c874f4d8de9"
      },
      "source": [
        "print(classification_report(ytest,ypred))"
      ],
      "execution_count": 40,
      "outputs": [
        {
          "output_type": "stream",
          "text": [
            "              precision    recall  f1-score   support\n",
            "\n",
            "           0       0.92      0.95      0.94      1872\n",
            "           1       0.95      0.91      0.93      1800\n",
            "\n",
            "    accuracy                           0.93      3672\n",
            "   macro avg       0.94      0.93      0.93      3672\n",
            "weighted avg       0.93      0.93      0.93      3672\n",
            "\n"
          ],
          "name": "stdout"
        }
      ]
    },
    {
      "cell_type": "code",
      "metadata": {
        "colab": {
          "base_uri": "https://localhost:8080/"
        },
        "id": "puYktrA7cwb3",
        "outputId": "163fd84d-5415-4815-9be5-eabd7dc240c6"
      },
      "source": [
        "# Looking r the accuracy it gaves the similar results\n",
        "accuracy_score(ytest,ypred)"
      ],
      "execution_count": 41,
      "outputs": [
        {
          "output_type": "execute_result",
          "data": {
            "text/plain": [
              "0.934368191721133"
            ]
          },
          "metadata": {
            "tags": []
          },
          "execution_count": 41
        }
      ]
    },
    {
      "cell_type": "code",
      "metadata": {
        "id": "eQBg6RGZc0jO"
      },
      "source": [
        "# saving the navies bayes model\n",
        "filename = 'airline_model.sav'\n",
        "pickle.dump(clf,open(filename,'wb'))"
      ],
      "execution_count": 42,
      "outputs": []
    },
    {
      "cell_type": "code",
      "metadata": {
        "colab": {
          "base_uri": "https://localhost:8080/"
        },
        "id": "MHoQQJrxpHl0",
        "outputId": "6c5acdfe-2a58-42fd-ed63-d7aafdf7ac66"
      },
      "source": [
        "# testing if model is saved correctly\n",
        "load_model = pickle.load(open('/content/airline_model.sav','rb'))\n",
        "res = load_model.score(xtest,ytest)\n",
        "print(res)"
      ],
      "execution_count": 43,
      "outputs": [
        {
          "output_type": "stream",
          "text": [
            "0.9354575163398693\n"
          ],
          "name": "stdout"
        }
      ]
    },
    {
      "cell_type": "code",
      "metadata": {
        "id": "-qe7CzM9pxtL"
      },
      "source": [
        ""
      ],
      "execution_count": null,
      "outputs": []
    }
  ]
}